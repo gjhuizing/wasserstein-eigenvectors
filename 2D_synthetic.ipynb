{
 "cells": [
  {
   "cell_type": "markdown",
   "metadata": {
    "id": "AwuOzAzXRutC"
   },
   "source": [
    "# Wasserstein Eigenvectors on the 2-D torus"
   ]
  },
  {
   "cell_type": "markdown",
   "metadata": {
    "id": "8y_M6VCyQz4O"
   },
   "source": [
    "This notebook showcases the Wasserstein eigenvectors for synthetic datasets of translated histograms on the 2-D torus."
   ]
  },
  {
   "cell_type": "markdown",
   "metadata": {
    "id": "Q3AKLhtZR1sB"
   },
   "source": [
    "## Imports"
   ]
  },
  {
   "cell_type": "code",
   "execution_count": 1,
   "metadata": {
    "colab": {
     "base_uri": "https://localhost:8080/"
    },
    "id": "aGGUkWjNRfVQ",
    "outputId": "4d8d7e59-f009-4dd0-c6df-c7302195f2dc"
   },
   "outputs": [
    {
     "name": "stdout",
     "output_type": "stream",
     "text": [
      "Collecting pot\n",
      "\u001b[?25l  Downloading https://files.pythonhosted.org/packages/f8/22/67658e4b227fc52ce1c9bca522dfb3f0cc29a3536d1c7499feb3b0042a41/POT-0.7.0-cp36-cp36m-manylinux2010_x86_64.whl (428kB)\n",
      "\r",
      "\u001b[K     |▊                               | 10kB 15.5MB/s eta 0:00:01\r",
      "\u001b[K     |█▌                              | 20kB 20.4MB/s eta 0:00:01\r",
      "\u001b[K     |██▎                             | 30kB 13.9MB/s eta 0:00:01\r",
      "\u001b[K     |███                             | 40kB 9.9MB/s eta 0:00:01\r",
      "\u001b[K     |███▉                            | 51kB 9.1MB/s eta 0:00:01\r",
      "\u001b[K     |████▋                           | 61kB 8.7MB/s eta 0:00:01\r",
      "\u001b[K     |█████▍                          | 71kB 8.8MB/s eta 0:00:01\r",
      "\u001b[K     |██████▏                         | 81kB 9.7MB/s eta 0:00:01\r",
      "\u001b[K     |██████▉                         | 92kB 8.6MB/s eta 0:00:01\r",
      "\u001b[K     |███████▋                        | 102kB 8.5MB/s eta 0:00:01\r",
      "\u001b[K     |████████▍                       | 112kB 8.5MB/s eta 0:00:01\r",
      "\u001b[K     |█████████▏                      | 122kB 8.5MB/s eta 0:00:01\r",
      "\u001b[K     |██████████                      | 133kB 8.5MB/s eta 0:00:01\r",
      "\u001b[K     |██████████▊                     | 143kB 8.5MB/s eta 0:00:01\r",
      "\u001b[K     |███████████▌                    | 153kB 8.5MB/s eta 0:00:01\r",
      "\u001b[K     |████████████▎                   | 163kB 8.5MB/s eta 0:00:01\r",
      "\u001b[K     |█████████████                   | 174kB 8.5MB/s eta 0:00:01\r",
      "\u001b[K     |█████████████▊                  | 184kB 8.5MB/s eta 0:00:01\r",
      "\u001b[K     |██████████████▌                 | 194kB 8.5MB/s eta 0:00:01\r",
      "\u001b[K     |███████████████▎                | 204kB 8.5MB/s eta 0:00:01\r",
      "\u001b[K     |████████████████                | 215kB 8.5MB/s eta 0:00:01\r",
      "\u001b[K     |████████████████▉               | 225kB 8.5MB/s eta 0:00:01\r",
      "\u001b[K     |█████████████████▋              | 235kB 8.5MB/s eta 0:00:01\r",
      "\u001b[K     |██████████████████▍             | 245kB 8.5MB/s eta 0:00:01\r",
      "\u001b[K     |███████████████████             | 256kB 8.5MB/s eta 0:00:01\r",
      "\u001b[K     |███████████████████▉            | 266kB 8.5MB/s eta 0:00:01\r",
      "\u001b[K     |████████████████████▋           | 276kB 8.5MB/s eta 0:00:01\r",
      "\u001b[K     |█████████████████████▍          | 286kB 8.5MB/s eta 0:00:01\r",
      "\u001b[K     |██████████████████████▏         | 296kB 8.5MB/s eta 0:00:01\r",
      "\u001b[K     |███████████████████████         | 307kB 8.5MB/s eta 0:00:01\r",
      "\u001b[K     |███████████████████████▊        | 317kB 8.5MB/s eta 0:00:01\r",
      "\u001b[K     |████████████████████████▌       | 327kB 8.5MB/s eta 0:00:01\r",
      "\u001b[K     |█████████████████████████▏      | 337kB 8.5MB/s eta 0:00:01\r",
      "\u001b[K     |██████████████████████████      | 348kB 8.5MB/s eta 0:00:01\r",
      "\u001b[K     |██████████████████████████▊     | 358kB 8.5MB/s eta 0:00:01\r",
      "\u001b[K     |███████████████████████████▌    | 368kB 8.5MB/s eta 0:00:01\r",
      "\u001b[K     |████████████████████████████▎   | 378kB 8.5MB/s eta 0:00:01\r",
      "\u001b[K     |█████████████████████████████   | 389kB 8.5MB/s eta 0:00:01\r",
      "\u001b[K     |█████████████████████████████▉  | 399kB 8.5MB/s eta 0:00:01\r",
      "\u001b[K     |██████████████████████████████▋ | 409kB 8.5MB/s eta 0:00:01\r",
      "\u001b[K     |███████████████████████████████▎| 419kB 8.5MB/s eta 0:00:01\r",
      "\u001b[K     |████████████████████████████████| 430kB 8.5MB/s \n",
      "\u001b[?25hRequirement already satisfied: cython>=0.23 in /usr/local/lib/python3.6/dist-packages (from pot) (0.29.21)\n",
      "Requirement already satisfied: scipy>=1.0 in /usr/local/lib/python3.6/dist-packages (from pot) (1.4.1)\n",
      "Requirement already satisfied: numpy>=1.16 in /usr/local/lib/python3.6/dist-packages (from pot) (1.19.5)\n",
      "Installing collected packages: pot\n",
      "Successfully installed pot-0.7.0\n"
     ]
    }
   ],
   "source": [
    "!pip install pot\n",
    "import numpy as np\n",
    "import matplotlib\n",
    "import matplotlib.pyplot as plt\n",
    "import ot\n",
    "import pandas as pd"
   ]
  },
  {
   "cell_type": "markdown",
   "metadata": {
    "id": "dF9zjoxZRpI_"
   },
   "source": [
    "## Functions to compute distances"
   ]
  },
  {
   "cell_type": "code",
   "execution_count": 2,
   "metadata": {
    "id": "3Xw0haeHSCGf"
   },
   "outputs": [],
   "source": [
    "# Compute OT distance matrix, with TV regularization\n",
    "def distance_matrix(A, C, tau=0):\n",
    "    D = np.zeros((A.shape[1], A.shape[1]))\n",
    "    for i in range(A.shape[1]):\n",
    "        D[i, :i] = D[:i, i] = ot.emd2(np.ascontiguousarray(A[:,i]), A[:,:i], C) + tau*C.max()*abs(A[:,[i]] - A[:,:i]).sum(0)\n",
    "    return D"
   ]
  },
  {
   "cell_type": "code",
   "execution_count": 3,
   "metadata": {
    "id": "yQkX77hdSGO9"
   },
   "outputs": [],
   "source": [
    "# Distance of two bins on the 1-D torus\n",
    "def torus_distance(i, j, n):\n",
    "    d1 = abs(j - i)\n",
    "    d2 = n - d1\n",
    "    return min(d1, d2)"
   ]
  },
  {
   "cell_type": "code",
   "execution_count": 4,
   "metadata": {
    "id": "MSAlsGnGSHdQ"
   },
   "outputs": [],
   "source": [
    "# Generate random distance-like matrix\n",
    "def random_distance(n, seed=None):\n",
    "    np.random.seed(seed)\n",
    "    D = np.random.rand(n, n)\n",
    "    D += D.T\n",
    "    np.fill_diagonal(D, 0)\n",
    "    return D/D.max()"
   ]
  },
  {
   "cell_type": "code",
   "execution_count": 5,
   "metadata": {
    "id": "_6hmexTNSXJ7"
   },
   "outputs": [],
   "source": [
    "# Hilbert metric between two matrices\n",
    "def hilbert(D1, D2):\n",
    "    idx = (np.eye(D1.shape[0]) != 1) # exclude diagonal\n",
    "    div = np.log(D1[idx]/D2[idx])\n",
    "    return div.max() - div.min()"
   ]
  },
  {
   "cell_type": "code",
   "execution_count": 6,
   "metadata": {
    "id": "jYSwcOIwSejw"
   },
   "outputs": [],
   "source": [
    "# Power iterations\n",
    "def power_it(A, D_ref, n_iter=10, compute_loss=True, tau=0):\n",
    "    D, loss = random_distance(A.shape[0], seed=42), []\n",
    "    for _ in range(n_iter):\n",
    "        print(_, end=' ')\n",
    "        if compute_loss:\n",
    "            loss.append(hilbert(D, D_ref))\n",
    "        D = distance_matrix(A, D, tau=tau)\n",
    "        D /= D.max()\n",
    "    print('')\n",
    "    return D, loss"
   ]
  },
  {
   "cell_type": "markdown",
   "metadata": {
    "id": "eYWIc50CSkOn"
   },
   "source": [
    "## Example 1: Translated Gaussian"
   ]
  },
  {
   "cell_type": "code",
   "execution_count": null,
   "metadata": {
    "id": "fXTx9iaLSjwz"
   },
   "outputs": [],
   "source": [
    "n =  15"
   ]
  },
  {
   "cell_type": "code",
   "execution_count": null,
   "metadata": {
    "id": "zUNgtp5cSpOT"
   },
   "outputs": [],
   "source": [
    "sigma =  1.4\n",
    "A_gauss_2D = np.zeros((n*n, n*n))\n",
    "for k in range(n*n):\n",
    "    plane = np.zeros((n, n))\n",
    "    oi, oj = k//n, k%n\n",
    "    for i in range(n):\n",
    "        for j in range(n):\n",
    "            d1 = torus_distance(i, oi, n)\n",
    "            d2 = torus_distance(j, oj, n)\n",
    "            d = np.sqrt(d1**2 + d2**2)\n",
    "            plane[i, j] = np.exp(-d/sigma**2)\n",
    "    A_gauss_2D[:,k] = plane.reshape(-1)\n",
    "A_gauss_2D /= A_gauss_2D.sum(0)"
   ]
  },
  {
   "cell_type": "code",
   "execution_count": null,
   "metadata": {
    "colab": {
     "base_uri": "https://localhost:8080/",
     "height": 283
    },
    "id": "zDQ-vw2aSrUk",
    "outputId": "67fe2f2c-6eca-4209-b540-94a1d96015ad"
   },
   "outputs": [
    {
     "data": {
      "image/png": "[encoded data removed]",
      "text/plain": [
       "<Figure size 432x288 with 2 Axes>"
      ]
     },
     "metadata": {
      "needs_background": "light",
      "tags": []
     },
     "output_type": "display_data"
    }
   ],
   "source": [
    "# Plot template\n",
    "plt.title('An example of a gaussian in $A$')\n",
    "plt.imshow(A_gauss_2D[:,48].reshape((n, n)), cmap='Blues')\n",
    "plt.colorbar();"
   ]
  },
  {
   "cell_type": "code",
   "execution_count": null,
   "metadata": {
    "id": "cMYij-q9T5RN"
   },
   "outputs": [],
   "source": [
    "# Compute eigenvector\n",
    "D_gauss_2D, _ = power_it(A_gauss_2D, None, n_iter=50, compute_loss=False)"
   ]
  },
  {
   "cell_type": "code",
   "execution_count": null,
   "metadata": {
    "colab": {
     "base_uri": "https://localhost:8080/",
     "height": 281
    },
    "id": "kR5SQd97UU_D",
    "outputId": "12cb7761-2ddf-4da5-eae2-e24f0e880ff2"
   },
   "outputs": [
    {
     "data": {
      "image/png": "[encoded data removed]",
      "text/plain": [
       "<Figure size 432x288 with 2 Axes>"
      ]
     },
     "metadata": {
      "needs_background": "light",
      "tags": []
     },
     "output_type": "display_data"
    }
   ],
   "source": [
    "# Plot eigenvector\n",
    "plt.title('Eigenvector')\n",
    "plt.imshow(D_gauss_2D[:,48].reshape((n, n)), cmap='Blues')\n",
    "plt.colorbar();"
   ]
  },
  {
   "cell_type": "markdown",
   "metadata": {
    "id": "6GnFEeRDSwah"
   },
   "source": [
    "## Example 2: Translated Gaussian Mixture"
   ]
  },
  {
   "cell_type": "code",
   "execution_count": null,
   "metadata": {
    "id": "n_1-QIPbTtkJ"
   },
   "outputs": [],
   "source": [
    "n = 15"
   ]
  },
  {
   "cell_type": "code",
   "execution_count": null,
   "metadata": {
    "id": "YYYU31lxSwKv"
   },
   "outputs": [],
   "source": [
    "sigma =  1\n",
    "A_mix_2D = np.zeros((n*n, n*n))\n",
    "for k in range(n*n):\n",
    "    plane = np.zeros((n, n))\n",
    "    oi, oj = k//n, k%n\n",
    "    for i in range(n):\n",
    "        for j in range(n):\n",
    "            d1 = torus_distance(i, oi, n)\n",
    "            d2 = torus_distance(j, oj, n)\n",
    "            d = np.sqrt(d1**2 + d2**2)\n",
    "            plane[i, j] += np.exp(-d/sigma**2)\n",
    "            plane[(i + 8)%n, (j + 8)%n] += .8*np.exp(-d/sigma**2)\n",
    "    A_mix_2D[:,k] = plane.reshape(-1)\n",
    "A_mix_2D /= A_mix_2D.sum(0)"
   ]
  },
  {
   "cell_type": "code",
   "execution_count": null,
   "metadata": {
    "colab": {
     "base_uri": "https://localhost:8080/",
     "height": 283
    },
    "id": "EClYH6aVTkVF",
    "outputId": "2dd29be9-843d-45a7-8eae-232c6158c4d8"
   },
   "outputs": [
    {
     "data": {
      "image/png": "[encoded data removed]",
      "text/plain": [
       "<Figure size 432x288 with 2 Axes>"
      ]
     },
     "metadata": {
      "needs_background": "light",
      "tags": []
     },
     "output_type": "display_data"
    }
   ],
   "source": [
    "plt.title('An example of a gaussian mixture in $A$')\n",
    "plt.imshow(A_mix_2D[:,48].reshape((n, n)), cmap='Oranges');\n",
    "plt.colorbar();"
   ]
  },
  {
   "cell_type": "code",
   "execution_count": null,
   "metadata": {
    "id": "PlD97IYuU4Ws"
   },
   "outputs": [],
   "source": [
    "# Compute eigenvector\n",
    "D_mix_2D, _ = power_it(A_mix_2D, None, n_iter=50, compute_loss=False)"
   ]
  },
  {
   "cell_type": "code",
   "execution_count": null,
   "metadata": {
    "colab": {
     "base_uri": "https://localhost:8080/",
     "height": 281
    },
    "id": "DQVJOsxwU7gz",
    "outputId": "92e9f351-25c9-439b-dd1a-f09849aa20e9"
   },
   "outputs": [
    {
     "data": {
      "image/png": "[encoded data removed]",
      "text/plain": [
       "<Figure size 432x288 with 2 Axes>"
      ]
     },
     "metadata": {
      "needs_background": "light",
      "tags": []
     },
     "output_type": "display_data"
    }
   ],
   "source": [
    "# Plot eigenvector\n",
    "plt.title('Eigenvector')\n",
    "plt.imshow(D_mix_2D[:,48].reshape((n, n)), cmap='Oranges')\n",
    "plt.colorbar();"
   ]
  },
  {
   "cell_type": "markdown",
   "metadata": {
    "id": "9HDPxUumTujz"
   },
   "source": [
    "## Example 3: Diracs"
   ]
  },
  {
   "cell_type": "code",
   "execution_count": 7,
   "metadata": {
    "id": "H1t0drRKTxeL"
   },
   "outputs": [],
   "source": [
    "n = 15"
   ]
  },
  {
   "cell_type": "code",
   "execution_count": 8,
   "metadata": {
    "id": "LbqTRSU7TyES"
   },
   "outputs": [],
   "source": [
    "A_diracs_2D = np.zeros((n*n, n*n))\n",
    "for k in range(n*n):\n",
    "    plane = np.zeros((n, n))\n",
    "    oi, oj = k//n, k%n\n",
    "    plane[(oi-2)%n, (oj-2)%n] = 1\n",
    "    plane[(oi-2)%n, (oj+2)%n] = 1\n",
    "    plane[(oi+2)%n, (oj-2)%n] = 1\n",
    "    plane[(oi+2)%n, (oj+2)%n] = 1\n",
    "    A_diracs_2D[:,k] = plane.reshape(-1)\n",
    "A_diracs_2D /= A_diracs_2D.sum(0)"
   ]
  },
  {
   "cell_type": "code",
   "execution_count": 9,
   "metadata": {
    "colab": {
     "base_uri": "https://localhost:8080/",
     "height": 283
    },
    "id": "4HauHSFZTzo5",
    "outputId": "b8db4ce0-6f83-42d7-9b30-8de18a134da3"
   },
   "outputs": [
    {
     "data": {
      "image/png": "[encoded data removed]",
      "text/plain": [
       "<Figure size 432x288 with 2 Axes>"
      ]
     },
     "metadata": {
      "needs_background": "light",
      "tags": []
     },
     "output_type": "display_data"
    }
   ],
   "source": [
    "plt.title('An example of a hist in $A$')\n",
    "plt.imshow(A_diracs_2D[:,n*n//2].reshape((n, n)), cmap='Greens')\n",
    "plt.colorbar();"
   ]
  },
  {
   "cell_type": "code",
   "execution_count": null,
   "metadata": {
    "id": "TfjHaZLJVDmK"
   },
   "outputs": [],
   "source": [
    "# Compute eigenvector\n",
    "D_diracs_2D, _ = power_it(A_diracs_2D, None, n_iter=50, compute_loss=False)"
   ]
  },
  {
   "cell_type": "code",
   "execution_count": 11,
   "metadata": {
    "colab": {
     "base_uri": "https://localhost:8080/",
     "height": 281
    },
    "id": "aK1v-VR9VIft",
    "outputId": "05cc4dd9-c66c-45ee-cb9b-a35432e99971"
   },
   "outputs": [
    {
     "data": {
      "image/png": "[encoded data removed]",
      "text/plain": [
       "<Figure size 432x288 with 2 Axes>"
      ]
     },
     "metadata": {
      "needs_background": "light",
      "tags": []
     },
     "output_type": "display_data"
    }
   ],
   "source": [
    "# Plot eigenvector\n",
    "plt.title('Eigenvector')\n",
    "plt.imshow(D_diracs_2D[:,n*n//2].reshape((n, n)), cmap='Greens')\n",
    "plt.colorbar();"
   ]
  }
 ],
 "metadata": {
  "colab": {
   "collapsed_sections": [
    "Q3AKLhtZR1sB"
   ],
   "name": "2D synthetic.ipynb",
   "provenance": []
  },
  "kernelspec": {
   "display_name": "Python 3",
   "language": "python",
   "name": "python3"
  },
  "language_info": {
   "codemirror_mode": {
    "name": "ipython",
    "version": 3
   },
   "file_extension": ".py",
   "mimetype": "text/x-python",
   "name": "python",
   "nbconvert_exporter": "python",
   "pygments_lexer": "ipython3",
   "version": "3.8.5"
  }
 },
 "nbformat": 4,
 "nbformat_minor": 1
}
